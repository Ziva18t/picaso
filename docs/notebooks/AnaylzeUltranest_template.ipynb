{
 "cells": [
  {
   "cell_type": "markdown",
   "id": "5d54574d-fb93-4a0e-a6b8-9b7111c1d8e8",
   "metadata": {},
   "source": [
    "# Analyzing Models with Ultranest\n",
    "\n",
    "Now that we have climate models with grids, we need to take it to the next level of analysis with nested sampling utilizing [Ultranest](https://johannesbuchner.github.io/UltraNest/readme.html). This is important as to have a deeper and higher level of statistical support in your analysis of your data.\r\n",
    "\r\n",
    "In this tutorial you will learn how to create/read spectral, chemical, thermal plots and save your results to an [Xarray](https://docs.xarray.dev/en/stable/) for ease of accessibility of use in the future.\r\n"
   ]
  },
  {
   "cell_type": "code",
   "execution_count": null,
   "id": "cf790a22-1908-4d75-b43a-905f50412849",
   "metadata": {},
   "outputs": [],
   "source": [
    "import numpy as np\n",
    "from bokeh.plotting import figure, show\n",
    "import matplotlib.pyplot as plt\n",
    "%matplotlib inline\n",
    "\n",
    "#picaso\n",
    "import picaso.justplotit as jpi\n",
    "import picaso.analyze as lyz\n",
    "jpi.output_notebook()\n",
    "\n",
    "import pickle as pk\n",
    "\n",
    "#ULTRANEST\n",
    "import ultranest\n",
    "import ultranest.plot as uplt\n",
    "import ultranest.integrator as uint\n",
    "from ultranest.plot import PredictionBand\n",
    "\n",
    "import xarray as xr"
   ]
  },
  {
   "cell_type": "markdown",
   "id": "48706ad1-1894-42d0-9318-00e98840faa9",
   "metadata": {},
   "source": [
    "# Model Setup\n",
    "\n",
    "We need to create the parameters of our model in order to set up our \"environment\" of analysis. We can use a handy script to do this for us!\r\n",
    "\r\n",
    "This script logs all the parameters (planet, star, atmosphere, etc), points everything we need in the right directory, and sets up the models. Essentially, it does what we have done before but all at once. For more information, follow is [tutorial](google.com).\r\n"
   ]
  },
  {
   "cell_type": "code",
   "execution_count": null,
   "id": "0c3d8439-5318-454a-a454-a622c96a3036",
   "metadata": {},
   "outputs": [],
   "source": [
    "#model_setup is referenced\n",
    "from model_setup import *\n",
    "\n",
    "#declare directories\n",
    "opa_dir = \"/data2/picaso_dbs/R60000/all_opacities_0.6_6_R15000.db\""
   ]
  },
  {
   "cell_type": "markdown",
   "id": "d62d6519-2273-4e34-af9b-dd63164fa6c6",
   "metadata": {},
   "source": [
    "# Running Ultranest\n",
    "\n",
    "Now, we need to run Ultranest which will use nested sampling to give a reliable statistically reinforced analysis. Again, we can use a handy script to make our life easier!\r\n",
    "\r\n",
    "This script uses the previous script and grabs the parameters, grid locations, directories for data and output and defines the likelihoods, finally running Ultranest. Depending on your computer specifications, it may take some time to complete. For more information, follow this [tutorial](google.c)om.\r\n"
   ]
  },
  {
   "cell_type": "code",
   "execution_count": null,
   "id": "59e292c9-0f88-42f9-83cc-60deef7bd696",
   "metadata": {},
   "outputs": [],
   "source": [
    "%run -i 'run_ultranest.py'"
   ]
  },
  {
   "cell_type": "markdown",
   "id": "581f6854-bd31-47be-aecb-33cf2c4134ea",
   "metadata": {},
   "source": [
    "# Reading the Results\n",
    "\n",
    "Now that we have run Ultranest, you should have an `emissions` folder with all of the Ultranest results.\r\n",
    "Let's read it and see what it gave us\r\n",
    "\r\n"
   ]
  },
  {
   "cell_type": "code",
   "execution_count": null,
   "id": "346d6d43-e0fc-4185-8f90-363d8179fb23",
   "metadata": {},
   "outputs": [],
   "source": [
    "dirr = 'emissions'\n",
    "res = uint.read_file(dirr, len(params))\n",
    "res[0].keys()"
   ]
  },
  {
   "cell_type": "code",
   "execution_count": null,
   "id": "867f236c-8e5d-4be9-9d61-04474c65a6ec",
   "metadata": {},
   "outputs": [],
   "source": [
    "res[1].keys()"
   ]
  },
  {
   "cell_type": "markdown",
   "id": "8458cc91-9b7a-44d6-ad1a-0f3b9b6aa2cf",
   "metadata": {},
   "source": [
    "We can see that it gave us a lot of statistical data which is what we want! There is a couple we really want to know:\r\n",
    "\r\n",
    "`logl`\r\n",
    "- Array of log likelihood at each point\r\n",
    "\r\n",
    "`paramnames`\r\n",
    "- Parameters we declared in run_ultranest.py\r\n",
    "\r\n",
    "`samples`\r\n",
    "- Sampled points from Ultranest\r\n",
    "\r\n",
    "Let's save our parameters/results and create our corner plot. This corner plot will show us the probability distributions of each parameter. In other words, it will show where the parameter has the highestmatching the datalclimate.\r\n",
    "\r\n",
    "\r\n"
   ]
  },
  {
   "cell_type": "markdown",
   "id": "8262681f-d9bb-4c11-aa30-178c9f7fde10",
   "metadata": {},
   "source": [
    "## Corner Plot"
   ]
  },
  {
   "cell_type": "code",
   "execution_count": null,
   "id": "fd6b7973-d6e3-42d5-b34f-f584ea7f214b",
   "metadata": {},
   "outputs": [],
   "source": [
    "res[1]['paramnames'] =  params\n",
    "results = res[1]\n",
    "paramnames = results['paramnames']\n",
    "samples = results['samples']\n",
    "logl = np.array(res[0]['logl'])\n",
    "\n",
    "uplt.cornerplot(results)"
   ]
  },
  {
   "cell_type": "code",
   "execution_count": null,
   "id": "2a73ac95-6db0-4e30-af96-21e3c06c4911",
   "metadata": {},
   "outputs": [],
   "source": [
    "summary = jdi.pd.read_csv(os.path.join(dirr, 'info','post_summary.csv'))\n",
    "median_val = [summary[i+'_'+'median'].values[0] for i in params]\n",
    "summary"
   ]
  },
  {
   "cell_type": "markdown",
   "id": "4621d836-9d68-4325-9d04-c64ce124950a",
   "metadata": {},
   "source": [
    "# Deciding the best fit physical parameters\r\n",
    "\r\n",
    "There are two paths we can take. \r\n",
    "1) Find the parameter values where the max log likelihood lie.\r\n",
    "2) Find the parameter values where the median values lie.\r\n",
    "\r\n",
    "It is really important to take the right path and report what you use. We already have the median values from the corner plot above. In this specific case, let's begin by printing the max log likelfirstod ves.\r\n",
    "\r\n",
    "\r\n"
   ]
  },
  {
   "cell_type": "code",
   "execution_count": null,
   "id": "8492b075-a2fb-4071-88e1-bfd1e9d1ae3c",
   "metadata": {},
   "outputs": [],
   "source": [
    "#Print max log likelihood parameters\n",
    "for i ,ip in enumerate(paramnames): \n",
    "    print(ip,samples[np.argmax(logl),i])\n",
    "maxlog_val = samples[np.argmax(logl),:]"
   ]
  },
  {
   "cell_type": "markdown",
   "id": "cf653b01-f193-4303-ad4d-a01d3f1a0e8c",
   "metadata": {},
   "source": [
    "Uh oh! Running this twice produces different results. Here are two runs:\n",
    "> tint 242.90576849771628\n",
    ">\n",
    "> heat_redis 0.614576599525345\n",
    "> \n",
    "> mh 1.0190034348328623\n",
    ">\n",
    "> cto 0.6516417142035135\n",
    "\n",
    "vs\n",
    "\n",
    "> tint 345.25805285732406\n",
    ">\n",
    "> heat_redis 0.5943213159419377\n",
    ">\n",
    "> mh 1.162968230864151\n",
    ">\n",
    "> cto 0.4563875323149711\n",
    "> \n",
    "\n",
    "This means it is much more reliable to use and report the median value parameters, rather than the changing log likelihood values. Let's use the median values for the climate model."
   ]
  },
  {
   "cell_type": "code",
   "execution_count": null,
   "id": "f6a2cd69-4bc0-4e98-9f3d-2fb7e46f4535",
   "metadata": {},
   "outputs": [],
   "source": [
    "climate_xarr_dir = \"xarrays/climate/hat-p-26_tint300_rfacv0.5_mh+130_cto100.nc\" #note we use tint: 300, r_facv/heat_redis: 0.5, mh:1.30, CtoO: 1.0\n",
    "MODEL = getattr(model_set,retrieval_type)\n",
    "resultx, resulty = MODEL(median_val)"
   ]
  },
  {
   "cell_type": "code",
   "execution_count": null,
   "id": "8999690e-d649-4571-a230-ef79702fc1f1",
   "metadata": {},
   "outputs": [],
   "source": [
    "#Grab the climate\n",
    "xr_usr=jdi.xr.load_dataset(climate_xarr_dir)\n",
    "opa = jdi.opannection(filename_db=opa_dir)\n",
    "case = jdi.input_xarray(xr_usr, opa)\n",
    "\n",
    "#copy over the climate\n",
    "og_atmo = jdi.copy.deepcopy(case.inputs['atmosphere']['profile'])"
   ]
  },
  {
   "cell_type": "markdown",
   "id": "39ed66ff-0647-420d-a50e-74a0c37d5d65",
   "metadata": {},
   "source": [
    "Let's check the chi-square fit"
   ]
  },
  {
   "cell_type": "markdown",
   "id": "f7bc9cad-426a-423a-b113-88908ca53374",
   "metadata": {},
   "source": [
    "## Chi-Square Fit"
   ]
  },
  {
   "cell_type": "code",
   "execution_count": null,
   "id": "cadae7b4-5b6c-41a8-b600-762dcfd25728",
   "metadata": {},
   "outputs": [],
   "source": [
    "xd=[]\n",
    "yd=[]\n",
    "datay=[]\n",
    "datae=[]\n",
    "for i in data_dict.keys(): \n",
    "    datay+=list(data_dict[i][1])\n",
    "    datae+=list(data_dict[i][2])\n",
    "    xd1, yd1=jdi.mean_regrid(resultx, resulty, newx=data_dict[i][0])\n",
    "    xd+=list(xd1)\n",
    "    yd+=list(yd1)\n",
    "\n",
    "chisq_best_fit_perdata = lyz.chi_squared(np.array(datay),np.array(datae),\n",
    "                np.array(yd),0)\n",
    "\n",
    "print(chisq_best_fit_perdata)"
   ]
  },
  {
   "cell_type": "markdown",
   "id": "bfbc2ac1-d474-484b-8f9d-f77243b866b2",
   "metadata": {},
   "source": [
    "# Spectral Anaylsis\n",
    "\n",
    "It is important to check if the spectral data points from Ultranest align with our actual data.\n",
    "\n",
    "To begin, let's plot the spectrum data with our sampled results"
   ]
  },
  {
   "cell_type": "markdown",
   "id": "e35c4363-651b-493d-bca9-e09596dbdee3",
   "metadata": {},
   "source": [
    "## Spectrum Data"
   ]
  },
  {
   "cell_type": "code",
   "execution_count": null,
   "id": "69bfaeb2-f685-4491-8f4d-4da043b205d8",
   "metadata": {},
   "outputs": [],
   "source": [
    "x_200, y_200=jdi.mean_regrid(resultx, resulty, R=200)\n",
    "fig = figure(x_axis_type='log', width=700, height=300)\n",
    "for i in data_dict.keys():\n",
    "  \n",
    "    jpi.plot_errorbar(1e4/data_dict[i][0], \n",
    "                  data_dict[i][1], \n",
    "                  data_dict[i][2], fig, \n",
    "                point_kwargs={'color':'black','size':10},\n",
    "                      error_kwargs={'color':'black','line_width':4})\n",
    "\n",
    "fig.line(1e4/x_200, y_200,line_width=4)\n",
    "\n",
    "jpi.show(fig)"
   ]
  },
  {
   "cell_type": "markdown",
   "id": "0bed45de-bad6-48cd-a408-440b9c9f1944",
   "metadata": {},
   "source": [
    "Now, let's see the eclipse depth. We are first going to create a band from our observation data."
   ]
  },
  {
   "cell_type": "markdown",
   "id": "a268be63-64b4-41f6-85e6-e10518472f4a",
   "metadata": {},
   "source": [
    "## Eclipse Depth"
   ]
  },
  {
   "cell_type": "code",
   "execution_count": null,
   "id": "934d7372-cf9a-41f5-916c-cfc06e9e48d5",
   "metadata": {},
   "outputs": [],
   "source": [
    "#setting up the band and the error region\n",
    "MODEL = getattr(model_set,retrieval_type)\n",
    "\n",
    "def model_w_regrid(eval_at):\n",
    "    resultx, resulty = MODEL(eval_at)\n",
    "    x, y=jdi.mean_regrid(resultx, resulty, newx=x_200)\n",
    "    return y\n",
    "    \n",
    "\n",
    "\n",
    "n_draws = 200\n",
    "samples = results['samples']\n",
    "draws=np.random.randint(0, samples.shape[0], n_draws)\n",
    "\n",
    "band = PredictionBand(1e4/x_200)\n",
    "for idraw in draws:\n",
    "    band.add(model_w_regrid(samples[idraw,:]))\n"
   ]
  },
  {
   "cell_type": "markdown",
   "id": "91f8f625-1c40-4e93-9dae-2c86339418b4",
   "metadata": {},
   "source": [
    "Next, let's overplot our observation data band with the Ultranest sampled points."
   ]
  },
  {
   "cell_type": "code",
   "execution_count": null,
   "id": "c94a8494-1ff4-4a57-887e-f4de0bafc6a1",
   "metadata": {},
   "outputs": [],
   "source": [
    "PuBuGn = jpi.pals.PuBuGn3\n",
    "fig, ax = plt.subplots(figsize=(15, 7))\n",
    " \n",
    "for i in data_dict.keys():\n",
    "    ax.errorbar(x=1e4/data_dict[i][0], y=data_dict[i][1], \n",
    "             yerr=data_dict[i][2], \n",
    "             marker='x', ls=' ')\n",
    "    \n",
    "band.line(color='k')\n",
    "spec_sigmas_hi = {}\n",
    "spec_sigmas_lo = {}\n",
    "\n",
    "for q ,c,key in zip([k/100/2 for k in [68.27, 95.45, 99.73]], PuBuGn, ['1sig','2sig','3sig']): \n",
    "    band.shade(q=q, color=c, alpha=0.5)\n",
    "    spec_sigmas_lo[key] = band.get_line(0.5 - q)\n",
    "    spec_sigmas_hi[key] = band.get_line(0.5 + q)\n",
    "\n",
    "spec_median_best_fit = band.get_line(0.5)\n",
    "\n",
    "ax.set_ylabel('Eclipse Depth', fontsize=16)\n",
    "ax.set_xlabel('Wavelength [$\\mu$m]', fontsize=16)\n",
    "\n",
    "ax.tick_params(axis='x', labelsize=13)\n",
    "ax.tick_params(axis='y', labelsize=13)\n",
    "ax.set_xscale('log')\n",
    "ax.set_xlim(3,12)\n"
   ]
  },
  {
   "cell_type": "markdown",
   "id": "0db5e0e4-280b-4f78-a1d7-f554e8a21012",
   "metadata": {},
   "source": [
    "Great! It seems like our sampled points align well with the data."
   ]
  },
  {
   "cell_type": "markdown",
   "id": "bed5fbe3-abd8-43e2-9ec5-c28a92015801",
   "metadata": {},
   "source": [
    "# Pressure-Temperature Analysis\r\n",
    "\r\n",
    "With our spectral data checked out, we need to next check if our P-T profile is aligned well with what our climate that we have run before says its i\n",
    "\r\n",
    "\r\n"
   ]
  },
  {
   "cell_type": "markdown",
   "id": "5cef1d26-ac54-4c9b-8ac8-2ad0a22fa6fa",
   "metadata": {},
   "source": [
    "First, we need to create our median band for our P-T profile alongside the 1-σ, 2-σ, 3-σ error from our Ultranest sampled points."
   ]
  },
  {
   "cell_type": "code",
   "execution_count": null,
   "id": "109aa9cd-860d-4de7-9f5b-333d0ace54c2",
   "metadata": {},
   "outputs": [],
   "source": [
    "#create band for p-t profile\n",
    "def pt_band(params):\n",
    "    final_goal = params[0:len(grid_parameters_unique.keys())]\n",
    "    temp = lyz.custom_interp(final_goal, fitter, grid_name, to_interp='custom',\n",
    "                                 array_to_interp=np.reshape(fitter.temperature['cldfree'],(3,6,8,4,91)))\n",
    "    return temp\n",
    "    \n",
    "\n",
    "\n",
    "n_draws = 600\n",
    "samples = results['samples']\n",
    "draws=np.random.randint(0, samples.shape[0], n_draws)\n",
    "\n",
    "pressure = np.reshape(fitter.pressure['cldfree'],(3,6,8,4,91))[0,0,0,0,:]\n",
    "band = PredictionBand(pressure)#[6,4,1,1,1,:])\n",
    "for idraw in draws:\n",
    "    band.add(pt_band(samples[idraw,:]))"
   ]
  },
  {
   "cell_type": "markdown",
   "id": "4af49dc2-2c8e-4724-a9b9-740f3bc7c257",
   "metadata": {},
   "source": [
    "Next, we need to plot this band and overplot our climate model data to see if they are within some σ of each other."
   ]
  },
  {
   "cell_type": "code",
   "execution_count": null,
   "id": "89f420e0-552c-431f-b72c-8ba406297fa7",
   "metadata": {},
   "outputs": [],
   "source": [
    "#plot it!\n",
    "pressure = np.reshape(fitter.pressure['cldfree'],(3,6,8,4,91))[0,0,0,0,:]\n",
    "fig, ax = plt.subplots(figsize=(7, 7))\n",
    "\n",
    "band.line(color='k')\n",
    "sigmas_hi = {}\n",
    "sigmas_lo = {}\n",
    "all_median={}\n",
    "\n",
    "for q ,c,key in zip([k/100/2 for k in [68.27, 95.45, 99.73]], PuBuGn, ['1sig','2sig','3sig']): \n",
    "    #band.shade(q=q, color=c, alpha=0.5)\n",
    "    sigmas_lo[key] = band.get_line(q=0.5 - q)\n",
    "    all_median[key+'_lo_temperature'] = sigmas_lo[key]\n",
    "    sigmas_hi[key] = band.get_line(q=0.5 + q)\n",
    "    ax.fill_betweenx(pressure,sigmas_lo[key] ,sigmas_hi[key], color=c, alpha=0.5)\n",
    "    all_median[key+'_hi_temperature'] = sigmas_hi[key]\n",
    "median_best_fit = band.get_line(0.5)\n",
    "all_median['temperature'] = median_best_fit\n",
    "ax.plot(median_best_fit,pressure, color='black',alpha=1, label='median')\n",
    "ax.plot(og_atmo['temperature'], og_atmo['pressure'], label='xarray', ls='--')\n",
    "\n",
    "ax.set_ylabel('Pressure [bar]', fontsize=16)\n",
    "ax.set_xlabel('Temperature [K]', fontsize=16)\n",
    "# Set the font size of major tick labels on the x-axis and y-axis\n",
    "ax.tick_params(axis='x', labelsize=13)\n",
    "ax.tick_params(axis='y', labelsize=13)\n",
    "ax.set_yscale('log')\n",
    "ax.set_ylim([1e2,1e-6])\n",
    "ax.set_xlim([800,3000])\n",
    "ax.legend()"
   ]
  },
  {
   "cell_type": "markdown",
   "id": "a27cd4a0-f67d-4ba4-8eca-7514510725d7",
   "metadata": {},
   "source": [
    "Looks dead on! This is great, our climate code is fully agreeing with the Ultranest sampled points. Just like the eclipse depth, the different shading represents 1-σ, 2-σ, 3-σ error. This is right down the middle which is fantastic."
   ]
  },
  {
   "cell_type": "markdown",
   "id": "6c88a812-ae35-49d8-8af6-b9b832d25662",
   "metadata": {},
   "source": [
    "# Chemical Analysis\n",
    "\n",
    "This portion may be a bit more difficult considering we are not using transmission data, however we still can withdraw and dissect some really useful scientific data about the chemical state of the atmosphere."
   ]
  },
  {
   "cell_type": "markdown",
   "id": "a6da189e-8dc0-41f0-bd4e-231792db73d9",
   "metadata": {},
   "source": [
    "Let's decide which molecules to analyze for."
   ]
  },
  {
   "cell_type": "code",
   "execution_count": null,
   "id": "192bea76-b83a-44bb-a25d-a243f3dfa3ab",
   "metadata": {},
   "outputs": [],
   "source": [
    "mols=['CO2','CH4','CO','H2O']"
   ]
  },
  {
   "cell_type": "markdown",
   "id": "914edc6f-c832-40c6-ba2a-c19716b505c5",
   "metadata": {},
   "source": [
    "This is a very similar process as before. Create the chemical band, overplot with our climate data, and see the σ tolerance."
   ]
  },
  {
   "cell_type": "markdown",
   "id": "d7f66a0d-5307-4a39-94f6-0ffdd3879d5e",
   "metadata": {},
   "source": [
    "## Mixing Ratio"
   ]
  },
  {
   "cell_type": "code",
   "execution_count": null,
   "id": "2ac7ce63-1a5e-45f2-a73b-3ef64ba55dd0",
   "metadata": {},
   "outputs": [],
   "source": [
    "chem = fitter.chemistry['cldfree']\n",
    "#create our chemistry band for each chemical\n",
    "def chem_band(params,mol):\n",
    "    to_interp = np.reshape(chem[mol],(3,6,8,4,91))\n",
    "    final_goal = params[0:len(grid_parameters_unique.keys())]\n",
    "    temp = lyz.custom_interp(final_goal, fitter, grid_name, to_interp='custom',\n",
    "                                       array_to_interp=to_interp )\n",
    "    return temp\n",
    "    \n",
    "\n",
    "for imol in mols:\n",
    "    n_draws = 200\n",
    "    samples = results['samples']\n",
    "    draws=np.random.randint(0, samples.shape[0], n_draws)\n",
    "\n",
    "    band = PredictionBand(pressure)\n",
    "    for idraw in draws:\n",
    "        band.add(chem_band(samples[idraw,:], imol))\n",
    "        \n",
    "    median_best_fit = band.get_line(0.5)\n",
    "    all_median[imol] = median_best_fit\n",
    "    \n",
    "    for q ,c,key in zip([k/100/2 for k in [68.27, 95.45, 99.73]], PuBuGn, ['1sig','2sig','3sig']): \n",
    "        sigmas_lo[key] = band.get_line(q=0.5 - q)\n",
    "        all_median[key+'_lo_'+imol] = sigmas_lo[key]\n",
    "        sigmas_hi[key] = band.get_line(q=0.5 + q)\n",
    "        ax.fill_betweenx(pressure,sigmas_lo[key] ,sigmas_hi[key], color=c, alpha=0.5)\n",
    "        all_median[key+'_hi_'+imol] = sigmas_hi[key]"
   ]
  },
  {
   "cell_type": "code",
   "execution_count": null,
   "id": "7e86aa37-3e5a-4f06-b5c5-f96375bf066a",
   "metadata": {},
   "outputs": [],
   "source": [
    "#plot it!\n",
    "fig, ax = plt.subplots(figsize=(7, 7))\n",
    "for imol in mols:\n",
    "    ax.plot(all_median[imol],pressure,label=imol)\n",
    "    ax.fill_betweenx(pressure,all_median['3sig'+'_lo_'+imol] ,\n",
    "                     all_median['3sig'+'_hi_'+imol], alpha=0.5)\n",
    "\n",
    "ax.plot(og_atmo['CO2'], og_atmo['pressure'], label='xarr CO2', ls=\"--\")\n",
    "ax.plot(og_atmo['CH4'], og_atmo['pressure'], label='xarr CH4', ls=\"--\")\n",
    "ax.plot(og_atmo['CO'], og_atmo['pressure'], label='xarr CO', ls=\"--\")\n",
    "ax.plot(og_atmo['H2O'], og_atmo['pressure'], label='xarr H2O', ls=\"--\")\n",
    "ax.set_ylabel('Pressure [bar]', fontsize=16)\n",
    "ax.set_xlabel('(v/v)', fontsize=16)\n",
    "\n",
    "ax.tick_params(axis='x', labelsize=13)\n",
    "ax.tick_params(axis='y', labelsize=13)\n",
    "ax.set_yscale('log')\n",
    "ax.legend()\n",
    "ax.set_xscale('log')\n",
    "ax.set_ylim([1e2,1e-6])\n",
    "ax.set_xlim([1e-7,1])"
   ]
  },
  {
   "cell_type": "markdown",
   "id": "71c54f96-e751-4aff-a9f4-a75668d56a58",
   "metadata": {},
   "source": [
    "Since we don't have transmission data, our errors are much larger thus we only plot 3-σ shaded regions. But, it seems like our climate code and Ultranest sampled points are still in tandem!"
   ]
  },
  {
   "cell_type": "markdown",
   "id": "26c4ecf1-a628-4d89-b3a7-00aa8c9013f0",
   "metadata": {},
   "source": [
    "Next, let's analyze which molecule is causing the biggest impact to our data by using the \"leave-one-out\" method. This can tell us which molecules are more than likely present than others. This may take a while as it effectively has to recreate the spectrum as many times as the molecules desired."
   ]
  },
  {
   "cell_type": "markdown",
   "id": "1962e4ff-019e-4f7e-97b4-3609c7d10007",
   "metadata": {},
   "source": [
    "## \"Leave One Out\" Method (Molecular Contribution)"
   ]
  },
  {
   "cell_type": "code",
   "execution_count": null,
   "id": "6873fa21-1c72-49b0-9708-e03115763bba",
   "metadata": {},
   "outputs": [],
   "source": [
    "import astropy.units as u\n",
    "\n",
    "w,f,l =[],[],[]\n",
    "for iex in mols + [None]:\n",
    "    case.atmosphere(df = og_atmo, exclude_mol=iex, delim_whitespace=True)\n",
    "    df= case.spectrum(opa, full_output=True,calculation='thermal')\n",
    "    #print(df.keys())\n",
    "    wno, rprs2  = df['wavenumber'] , df['fpfs_thermal']\n",
    "    wno, rprs2 = jdi.mean_regrid(wno, rprs2, R=150)\n",
    "    w +=[wno]\n",
    "    f+=[rprs2]\n",
    "    if iex==None:\n",
    "        leg='all'\n",
    "    else:\n",
    "        leg = f'No {iex}'\n",
    "    l+=[leg]\n",
    "jpi.show(jpi.spectrum(w,f,legend=l))"
   ]
  },
  {
   "cell_type": "markdown",
   "id": "f6847d10-f739-4f12-9dad-468dfac32607",
   "metadata": {},
   "source": [
    "This is awesome! We can clearly see and have a strong reasoning that H2O and CO2 are in the atmosphere. If they weren't present, the spectrum would completely veer off course of the data. "
   ]
  },
  {
   "cell_type": "markdown",
   "id": "978a40be-d71c-4822-8c48-d64456e5ada0",
   "metadata": {},
   "source": [
    "# Thermal Contribution\n",
    "\n",
    "Let's also look at the thermal contribution. This can give us the understanding of what fluxes are emitted at which pressure."
   ]
  },
  {
   "cell_type": "code",
   "execution_count": null,
   "id": "dafacfc1-7672-4dd6-a2c6-dfd251bfd23f",
   "metadata": {},
   "outputs": [],
   "source": [
    "df=case.spectrum(opa, full_output=True, calculation='emissions')\n",
    "fig, ax, CF = jpi.thermal_contribution(df['full_output'],\n",
    "                                       norm=jpi.colors.LogNorm(vmin=1e9, vmax=1e12))"
   ]
  },
  {
   "cell_type": "markdown",
   "id": "846a4ceb-1dbe-463d-99e8-ec1163282d15",
   "metadata": {},
   "source": [
    "# Building and Exporting Xarray\r\n",
    "\r\n",
    "Now that our analysis of the sampled points is completed to our satisfaction, let's build and export an xarray of all the data used so anyone can make these plots and do any other analysis they desire. This is very important as you can effectively throw the whole model to someone and they can do whatever they want without having to rerun any modeling/sampling method\n",
    "\r\n",
    "\r\n"
   ]
  },
  {
   "cell_type": "code",
   "execution_count": null,
   "id": "c51ac201-2771-4118-b611-50c399201a77",
   "metadata": {},
   "outputs": [],
   "source": [
    "import json \n",
    "from astropy.utils.misc import JsonCustomEncoder\n",
    "import numpy.ma as ma\n",
    "\n",
    "data_vars=dict(\n",
    "        temperature_1sig_lo= ([\"pressure\"], ma.getdata(all_median['1sig_lo_temperature']), {'units': 'Kelvin'}),\n",
    "        temperature_1sig_hi= ([\"pressure\"], ma.getdata(all_median['1sig_hi_temperature']), {'units': 'Kelvin'}),\n",
    "        temperature_median= ([\"pressure\"], ma.getdata(all_median['temperature']),{'units': 'Kelvin'}),\n",
    "        eclipse_depth_median=(['wavelength'], spec_median_best_fit,{'units': 'Fp/F*'}),\n",
    "        eclipse_depth_1sig_lo=(['wavelength'], ma.getdata(spec_sigmas_lo['1sig']),{'units': 'Fp/F*'}),\n",
    "        eclipse_depth_1sig_hi=(['wavelength'], ma.getdata(spec_sigmas_hi['1sig']),{'units': 'Fp/F*'}),\n",
    "\n",
    "    )\n",
    "\n",
    "for i in mols:\n",
    "    data_vars[i+\"_median\"] = ([\"pressure\"], all_median[i])\n",
    "    data_vars[i+\"_1sig_lo\"] = ([\"pressure\"], all_median[\"1sig_lo_\"+i])\n",
    "    data_vars[i+\"_1sig_hi\"] = ([\"pressure\"], all_median[\"1sig_hi_\"+i])\n",
    "build_xarray = xr.Dataset(\n",
    "    data_vars=data_vars,\n",
    "    coords=dict(\n",
    "        pressure=([\"pressure\"], pressure, {'units': 'bar'}),\n",
    "        wavelength=(['wavelength'], x_200, {'units': '1/cm'}),\n",
    "    ),\n",
    "    #change this with your information!\n",
    "    attrs=dict(author=\"Dominic Doud\",\n",
    "               contact=\"dominic.doud@nasa.gov\",\n",
    "               model=\"PICASO Chemeq Grid + Virga fit with Ultranest\",\n",
    "               chisq_best_fit_perdata = chisq_best_fit_perdata,\n",
    "               code=\"PICASO,Ultranest,Virga\", #required, in this case I used numpy to make my fake model.\n",
    "               median_params=json.dumps({ip:median_val[i] for i,ip in enumerate(paramnames)},cls=JsonCustomEncoder),\n",
    "               summary=summary.to_json()\n",
    "              ),\n",
    ")"
   ]
  },
  {
   "cell_type": "code",
   "execution_count": null,
   "id": "c3284cf4-8f31-4250-bb85-6bc4c4cf9902",
   "metadata": {},
   "outputs": [],
   "source": [
    "build_xarray"
   ]
  },
  {
   "cell_type": "code",
   "execution_count": null,
   "id": "2f70c0ae-69b5-4b7b-a3c4-c18e9d74229d",
   "metadata": {},
   "outputs": [],
   "source": [
    "build_xarray.to_netcdf('final_picaso_cld_free_w_virga_medianfit.nc')"
   ]
  },
  {
   "cell_type": "code",
   "execution_count": null,
   "id": "3691d41f-4b44-4654-8feb-3689af8ca8eb",
   "metadata": {},
   "outputs": [],
   "source": []
  }
 ],
 "metadata": {
  "kernelspec": {
   "display_name": "Python 3 (ipykernel)",
   "language": "python",
   "name": "python3"
  },
  "language_info": {
   "codemirror_mode": {
    "name": "ipython",
    "version": 3
   },
   "file_extension": ".py",
   "mimetype": "text/x-python",
   "name": "python",
   "nbconvert_exporter": "python",
   "pygments_lexer": "ipython3",
   "version": "3.11.8"
  }
 },
 "nbformat": 4,
 "nbformat_minor": 5
}
