{
 "cells": [
  {
   "cell_type": "markdown",
   "id": "961fc4c6-2455-47ee-a78d-1d0ab026d0ef",
   "metadata": {},
   "source": [
    "# Run Ultranest Script\n",
    "\n",
    "Now that we have our script for setting up our full environment for models and analysis, let's break apart `run_ultranest.py` step-by-step.\n",
    "\n",
    "The goal of this script is to run Ultranest successfully."
   ]
  },
  {
   "cell_type": "code",
   "execution_count": 1,
   "id": "f29f4e1f-80bd-40cd-897d-ca4ec8631c46",
   "metadata": {},
   "outputs": [
    {
     "name": "stdout",
     "output_type": "stream",
     "text": [
      "Total number of models in grid is 576\n",
      "For tint in planet_params grid is: [200. 300. 400.]\n",
      "For heat_redis in planet_params grid is: [0.4 0.5 0.6 0.7 0.8 0.9]\n",
      "For mh in planet_params grid is: [0.  0.3 0.5 0.7 1.  1.3 1.5 2. ]\n",
      "For cto in planet_params grid is: [0.25 0.5  1.   1.5 ]\n"
     ]
    }
   ],
   "source": [
    "import math, os\n",
    "import multiprocessing as mp\n",
    "import numpy as np\n",
    "import pickle\n",
    "import pandas as pd\n",
    "import astropy.units as u\n",
    "from bokeh.plotting import figure, show, output_file,save\n",
    "import time\n",
    "import picaso.justdoit as jdi\n",
    "import picaso.justplotit as jpi\n",
    "import uuid\n",
    "\n",
    "import ultranest\n",
    "import ultranest.stepsampler\n",
    "\n",
    "import warnings\n",
    "# Suppress all warnings\n",
    "warnings.filterwarnings(\"ignore\")\n",
    "\n",
    "#command line \n",
    "#mpiexec -n numprocs python -m mpi4py pyfile\n",
    "#for example: mpiexec -n 5 python -m mpi4py run_pymulti.py\n",
    "#jupyter notebook: %run -i 'run_ultranest.py'\n",
    "\n",
    "\n",
    "#Here is your main file with all priors, and model sets\n",
    "from model_setup import *"
   ]
  },
  {
   "cell_type": "markdown",
   "id": "2ca1962c-3d35-451f-b8de-7e9b761fddac",
   "metadata": {},
   "source": [
    "First, we need to load our observational data\r\n"
   ]
  },
  {
   "cell_type": "code",
   "execution_count": 2,
   "id": "b4d65eca-72c1-495e-ad4e-67e357620462",
   "metadata": {},
   "outputs": [],
   "source": [
    "nir_options = ['Gressier','Wakeford']\n",
    "miri_options = ['bristol_dv','Cornell_Eureka!']\n",
    "data_file = nir_options[1]+miri_options[0]\n",
    "data_dict = get_data(nir_options[1],miri_options[0])"
   ]
  },
  {
   "cell_type": "markdown",
   "id": "ec374bb2-66b8-48b4-9160-2ccaab2c73ab",
   "metadata": {},
   "source": [
    "Let's declare a name to keep track of for this run, save our directories, and specify models needed"
   ]
  },
  {
   "cell_type": "code",
   "execution_count": 3,
   "id": "0668e207-67dd-4e1c-8832-6f8f80ba60bc",
   "metadata": {},
   "outputs": [],
   "source": [
    "tag = nir_options[1]+miri_options[0]\n",
    "\n",
    "out_dir = '/home/ddoud1/notebooks/fitting/emission'\n",
    "\n",
    "model_type = 'cld_free'"
   ]
  },
  {
   "cell_type": "markdown",
   "id": "69eff282-1205-448b-bfc9-d5437affb00a",
   "metadata": {},
   "source": [
    "## Likelihoods"
   ]
  },
  {
   "cell_type": "markdown",
   "id": "14564a96-f374-425b-a292-24837677446f",
   "metadata": {},
   "source": [
    "Ultranest needs likelihoods. There are a few different likelihoods, but we are going to use log likelihoods. This function will go through, compute the spectrum, replace NaNs, regrid and compute the likelihood.\n",
    "\n",
    "For more information on different likelihoods or use cases, refer to [documentation](https://johannesbuchner.github.io/UltraNest/using-ultranest.html)."
   ]
  },
  {
   "cell_type": "code",
   "execution_count": 4,
   "id": "5da6e262-ef8b-42af-829e-8fad7434df2a",
   "metadata": {},
   "outputs": [],
   "source": [
    "def loglike(cube):\n",
    "    #compute model spectra\n",
    "    resultx,resulty = MODEL(cube)\n",
    "\n",
    "    #i check for nans or infinite values \n",
    "    if isinstance(resulty, float): \n",
    "        if np.isinf(resulty): \n",
    "            return -1e8 #very large negative number \n",
    "    \n",
    "    #regrid to data wavenumber grid\n",
    "    y_model_all = []\n",
    "    x_data_all = []\n",
    "    y_data_all = []\n",
    "    e_data_all = []\n",
    "\n",
    "    #loop through data and regird \n",
    "    for idata in data_dict.keys():\n",
    "        x_chunk, y_chunk=jdi.mean_regrid(resultx, resulty, newx=data_dict[idata][0])\n",
    "        y_model_all += [y_chunk]\n",
    "        x_data_all += [x_chunk]\n",
    "        y_data_all += [data_dict[idata][1]]\n",
    "        e_data_all += [data_dict[idata][2]]\n",
    "        \n",
    "    y_model_all = np.concatenate(y_model_all)    \n",
    "    x_data_all = np.concatenate(x_data_all)    \n",
    "    y_data_all = np.concatenate(y_data_all)    \n",
    "    e_data_all = np.concatenate(e_data_all)    \n",
    "    \n",
    "    #compute loglikelihood\n",
    "    loglikelihood=-0.5*np.sum((y_data_all-y_model_all)**2/e_data_all**2)\n",
    "    return loglikelihood"
   ]
  },
  {
   "cell_type": "markdown",
   "id": "cb093e11-3188-4580-bed4-e4f31b2c6a3b",
   "metadata": {},
   "source": [
    "Finally, let's set the kwargs for Ultranest to use and then it's all ready to go to run!"
   ]
  },
  {
   "cell_type": "code",
   "execution_count": 5,
   "id": "a601048f-33ec-4304-891b-99d1a798f63c",
   "metadata": {},
   "outputs": [],
   "source": [
    "multi_kwargs = {'resume':True,#'resume-similar',\n",
    "                'warmstart_max_tau':-1,#0.7, #only used for resume-similar (small changes in likelihood. 0=very conservative, 1=very negligent) \n",
    "                'n_live_points':'50*nparam',\n",
    "                'max_ncalls':None}#1000000}"
   ]
  },
  {
   "cell_type": "markdown",
   "id": "2fcb6728-110c-4426-a9ad-4b0d139eff7a",
   "metadata": {},
   "source": [
    "## Run Ultranest!"
   ]
  },
  {
   "cell_type": "code",
   "execution_count": null,
   "id": "f29b3d5e-336b-4b3e-bd0c-91b90cc50db6",
   "metadata": {},
   "outputs": [],
   "source": [
    "# this is one method of running ultranest, and in reality there are many more (see ultranest docs) \n",
    "print(model_type)\n",
    "params = getattr(param_set, model_type).split(',')\n",
    "Nparam=len(params)\n",
    "print(params, Nparam)\n",
    "MODEL = getattr(model_set, model_type)\n",
    "PRIOR = getattr(prior_set, model_type)\n",
    "if isinstance(multi_kwargs['n_live_points'],str):\n",
    "    multi_kwargs['n_live_points']= (Nparam)*int(multi_kwargs['n_live_points'].split('*')[0])\n",
    "jdi.json.dump({\n",
    "        'tag':tag, \n",
    "        'data_file':data_file, \n",
    "        'retrieval_type': model_type,\n",
    "        'nparams': Nparam, \n",
    "        'params':params, \n",
    "        'n_live_points': multi_kwargs['n_live_points'], \n",
    "        'max_ncalls':multi_kwargs['max_ncalls']\n",
    "    } , open(f'{out_dir}/{tag}_{model_type}.json','w'))#_{unique_id}\n",
    "\n",
    "sampler = ultranest.ReactiveNestedSampler(\n",
    "                        params,\n",
    "                        loglike,\n",
    "                        PRIOR,\n",
    "                        log_dir=out_dir, \n",
    "resume=multi_kwargs['resume'],\n",
    "                        warmstart_max_tau=multi_kwargs['warmstart_max_tau'])\n",
    "nsteps = 2 * len(params)\n",
    "sampler.stepsampler = ultranest.stepsampler.SliceSampler(\n",
    "                    nsteps=nsteps, generate_direction=ultranest.stepsampler.generate_mixture_random_direction,\n",
    "                )\n",
    "results = sampler.run(min_num_live_points=multi_kwargs['n_live_points'], max_ncalls=multi_kwargs['max_ncalls'])"
   ]
  }
 ],
 "metadata": {
  "kernelspec": {
   "display_name": "Python 3 (ipykernel)",
   "language": "python",
   "name": "python3"
  },
  "language_info": {
   "codemirror_mode": {
    "name": "ipython",
    "version": 3
   },
   "file_extension": ".py",
   "mimetype": "text/x-python",
   "name": "python",
   "nbconvert_exporter": "python",
   "pygments_lexer": "ipython3",
   "version": "3.11.5"
  }
 },
 "nbformat": 4,
 "nbformat_minor": 5
}
