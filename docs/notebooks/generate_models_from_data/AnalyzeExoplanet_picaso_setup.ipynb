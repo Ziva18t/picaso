{
 "cells": [
  {
   "cell_type": "markdown",
   "id": "un2r-8IJ4Fos",
   "metadata": {
    "id": "un2r-8IJ4Fos"
   },
   "source": [
    "# Generating Models to Data Setup\n",
    "## Author:  Dominic Doud (NASA Ames Research Center)\n",
    "\n",
    "This notebook downloads and installs the needed files for Generating Models to Data using PICASO. This notebook only needs to be run **once**."
   ]
  },
  {
   "cell_type": "markdown",
   "id": "b9ba3b9f",
   "metadata": {
    "id": "b9ba3b9f"
   },
   "source": [
    "## Define directory\n",
    "\n",
    "We have created a special condensed version of all the picaso and virga ref data, that includes everything you need to complete this exercise. **All you need to do is define your path for Python**\n",
    "\n",
    "If this is too inconvenient, you can also download the files [here](https://zenodo.org/record/6959427/files/JWST_ERS_1st_LOOK_PAPER_DATA.zip?download=1) and unzip it in your chosen directory."
   ]
  },
  {
   "cell_type": "code",
   "execution_count": 1,
   "id": "P_mk7nKI78GM",
   "metadata": {
    "id": "P_mk7nKI78GM"
   },
   "outputs": [
    {
     "name": "stdout",
     "output_type": "stream",
     "text": [
      "--2024-04-19 16:29:14--  https://zenodo.org/record/6959427/files/JWST_ERS_1st_LOOK_PAPER_DATA.zip?download=1\n",
      "Resolving zenodo.org (zenodo.org)... 188.185.79.172, 188.184.103.159, 188.184.98.238, ...\n",
      "Connecting to zenodo.org (zenodo.org)|188.185.79.172|:443... connected.\n",
      "HTTP request sent, awaiting response... 301 MOVED PERMANENTLY\n",
      "Location: /records/6959427/files/JWST_ERS_1st_LOOK_PAPER_DATA.zip [following]\n",
      "--2024-04-19 16:29:15--  https://zenodo.org/records/6959427/files/JWST_ERS_1st_LOOK_PAPER_DATA.zip\n",
      "Reusing existing connection to zenodo.org:443.\n",
      "HTTP request sent, awaiting response... 200 OK\n",
      "Length: 375091 (366K) [application/octet-stream]\n",
      "Saving to: ‘JWST_ERS_1st_LOOK_PAPER_DATA’\n",
      "\n",
      "JWST_ERS_1st_LOOK_P 100%[===================>] 366.30K   384KB/s    in 1.0s    \n",
      "\n",
      "2024-04-19 16:29:17 (384 KB/s) - ‘JWST_ERS_1st_LOOK_PAPER_DATA’ saved [375091/375091]\n",
      "\n",
      "Archive:  JWST_ERS_1st_LOOK_PAPER_DATA\n",
      "   creating: ZENODO/\n",
      "  inflating: __MACOSX/._ZENODO       \n",
      "  inflating: ZENODO/.DS_Store        \n",
      "  inflating: __MACOSX/ZENODO/._.DS_Store  \n",
      "  inflating: ZENODO/data-behind-figure1.csv  \n",
      "  inflating: __MACOSX/ZENODO/._data-behind-figure1.csv  \n",
      "   creating: ZENODO/MODEL_FITS/\n",
      "  inflating: __MACOSX/ZENODO/._MODEL_FITS  \n",
      "  inflating: ZENODO/README           \n",
      "  inflating: __MACOSX/ZENODO/._README  \n",
      "   creating: ZENODO/TRANSMISSION_SPECTRA_DATA/\n",
      "  inflating: __MACOSX/ZENODO/._TRANSMISSION_SPECTRA_DATA  \n",
      "  inflating: ZENODO/MODEL_FITS/ScCHIMERA_MODEL_noCO2.txt  \n",
      "  inflating: __MACOSX/ZENODO/MODEL_FITS/._ScCHIMERA_MODEL_noCO2.txt  \n",
      "  inflating: ZENODO/MODEL_FITS/ScCHIMERA_MODEL_noH2O.txt  \n",
      "  inflating: __MACOSX/ZENODO/MODEL_FITS/._ScCHIMERA_MODEL_noH2O.txt  \n",
      "  inflating: ZENODO/MODEL_FITS/.DS_Store  \n",
      "  inflating: __MACOSX/ZENODO/MODEL_FITS/._.DS_Store  \n",
      "  inflating: ZENODO/MODEL_FITS/PICASO_MODEL.txt  \n",
      "  inflating: __MACOSX/ZENODO/MODEL_FITS/._PICASO_MODEL.txt  \n",
      "  inflating: ZENODO/MODEL_FITS/ScCHIMERA_MODEL_noCloud.txt  \n",
      "  inflating: __MACOSX/ZENODO/MODEL_FITS/._ScCHIMERA_MODEL_noCloud.txt  \n",
      "  inflating: ZENODO/MODEL_FITS/ScCHIMERA_MODEL_noCH4.txt  \n",
      "  inflating: __MACOSX/ZENODO/MODEL_FITS/._ScCHIMERA_MODEL_noCH4.txt  \n",
      "  inflating: ZENODO/MODEL_FITS/ScCHIMERA_MODEL.txt  \n",
      "  inflating: __MACOSX/ZENODO/MODEL_FITS/._ScCHIMERA_MODEL.txt  \n",
      "  inflating: ZENODO/MODEL_FITS/ScCHIMERA_MODEL_noCO.txt  \n",
      "  inflating: __MACOSX/ZENODO/MODEL_FITS/._ScCHIMERA_MODEL_noCO.txt  \n",
      "  inflating: ZENODO/MODEL_FITS/PHOENIX_MODEL.txt  \n",
      "  inflating: __MACOSX/ZENODO/MODEL_FITS/._PHOENIX_MODEL.txt  \n",
      "  inflating: ZENODO/MODEL_FITS/ScCHIMERA_MODEL_noH2S.txt  \n",
      "  inflating: __MACOSX/ZENODO/MODEL_FITS/._ScCHIMERA_MODEL_noH2S.txt  \n",
      "  inflating: ZENODO/MODEL_FITS/ATMO_MODEL.txt  \n",
      "  inflating: __MACOSX/ZENODO/MODEL_FITS/._ATMO_MODEL.txt  \n",
      "  inflating: ZENODO/TRANSMISSION_SPECTRA_DATA/TIBERIUS_REDUCTION.txt  \n",
      "  inflating: __MACOSX/ZENODO/TRANSMISSION_SPECTRA_DATA/._TIBERIUS_REDUCTION.txt  \n",
      "  inflating: ZENODO/TRANSMISSION_SPECTRA_DATA/EUREKA_REDUCTION.txt  \n",
      "  inflating: __MACOSX/ZENODO/TRANSMISSION_SPECTRA_DATA/._EUREKA_REDUCTION.txt  \n",
      "  inflating: ZENODO/TRANSMISSION_SPECTRA_DATA/FIREFLY_REDUCTION.txt  \n",
      "  inflating: __MACOSX/ZENODO/TRANSMISSION_SPECTRA_DATA/._FIREFLY_REDUCTION.txt  \n",
      "  inflating: ZENODO/TRANSMISSION_SPECTRA_DATA/TSHIRT_REDUCTION.txt  \n",
      "  inflating: __MACOSX/ZENODO/TRANSMISSION_SPECTRA_DATA/._TSHIRT_REDUCTION.txt  \n"
     ]
    }
   ],
   "source": [
    "import os\n",
    "# where you will download the data\n",
    "picaso_tutorial_dir = 'exoplanet_modeling_tutorial'\n",
    "os.chdir(picaso_tutorial_dir)\n",
    "\n",
    "# Download Eureka data file from ZENODO into the picaso_tutorial_dir you have defined above\n",
    "!wget -O JWST_ERS_1st_LOOK_PAPER_DATA \"https://zenodo.org/record/6959427/files/JWST_ERS_1st_LOOK_PAPER_DATA.zip?download=1\"\n",
    "!unzip JWST_ERS_1st_LOOK_PAPER_DATA && rm JWST_ERS_1st_LOOK_PAPER_DATA\n"
   ]
  }
 ],
 "metadata": {
  "colab": {
   "provenance": [
    {
     "file_id": "1iiuBZ-9eSg-ZGlT7WLODxID7alvtayrD",
     "timestamp": 1686694242813
    }
   ],
   "toc_visible": true
  },
  "kernelspec": {
   "display_name": "Python 3 (ipykernel)",
   "language": "python",
   "name": "python3"
  },
  "language_info": {
   "codemirror_mode": {
    "name": "ipython",
    "version": 3
   },
   "file_extension": ".py",
   "mimetype": "text/x-python",
   "name": "python",
   "nbconvert_exporter": "python",
   "pygments_lexer": "ipython3",
   "version": "3.11.8"
  },
  "toc": {
   "base_numbering": 1,
   "nav_menu": {},
   "number_sections": true,
   "sideBar": true,
   "skip_h1_title": false,
   "title_cell": "Table of Contents",
   "title_sidebar": "Contents",
   "toc_cell": true,
   "toc_position": {},
   "toc_section_display": true,
   "toc_window_display": false
  }
 },
 "nbformat": 4,
 "nbformat_minor": 5
}
