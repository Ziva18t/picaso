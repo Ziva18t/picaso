{
 "cells": [
  {
   "cell_type": "markdown",
   "id": "un2r-8IJ4Fos",
   "metadata": {
    "id": "un2r-8IJ4Fos"
   },
   "source": [
    "# Generating Models to Data Setup\n",
    "## Author:  Dominic Doud (NASA Ames Research Center)\n",
    "\n",
    "This tutorial takes you from setup to creating a small grid of climate and spectral models. You will go from an emission spectrum to a high-analysis of the climate and chemical makeup of Wasp-39b.\n",
    "\n",
    "\n",
    "This notebook downloads and installs the needed files for Generating Models to Data using PICASO. This notebook only needs to be run **once**."
   ]
  },
  {
   "cell_type": "markdown",
   "id": "b9ba3b9f",
   "metadata": {
    "id": "b9ba3b9f"
   },
   "source": [
    "## Define directory\n",
    "First step is to install PICASO, following the steps [here](https://natashabatalha.github.io/picaso/installation.html).\n",
    "\n",
    "Define a path where your tutorial files will live, then it will create the directory and download the data and extract it for you.\n",
    "\n",
    "If this is too inconvenient, you can also download the files [here](https://zenodo.org/record/6959427/files/JWST_ERS_1st_LOOK_PAPER_DATA.zip?download=1) and unzip it in your chosen directory."
   ]
  },
  {
   "cell_type": "code",
   "execution_count": 9,
   "id": "P_mk7nKI78GM",
   "metadata": {
    "id": "P_mk7nKI78GM"
   },
   "outputs": [
    {
     "name": "stdout",
     "output_type": "stream",
     "text": [
      "--2024-09-03 12:42:44--  https://zenodo.org/record/6959427/files/JWST_ERS_1st_LOOK_PAPER_DATA.zip?download=1\n",
      "Resolving zenodo.org (zenodo.org)... 188.184.103.159, 188.185.79.172, 188.184.98.238, ...\n",
      "Connecting to zenodo.org (zenodo.org)|188.184.103.159|:443... connected.\n",
      "HTTP request sent, awaiting response... 301 MOVED PERMANENTLY\n",
      "Location: /records/6959427/files/JWST_ERS_1st_LOOK_PAPER_DATA.zip [following]\n",
      "--2024-09-03 12:42:46--  https://zenodo.org/records/6959427/files/JWST_ERS_1st_LOOK_PAPER_DATA.zip\n",
      "Reusing existing connection to zenodo.org:443.\n",
      "HTTP request sent, awaiting response... 200 OK\n",
      "Length: 375091 (366K) [application/octet-stream]\n",
      "Saving to: ‘JWST_ERS_1st_LOOK_PAPER_DATA’\n",
      "\n",
      "JWST_ERS_1st_LOOK_P 100%[===================>] 366.30K   432KB/s    in 0.8s    \n",
      "\n",
      "2024-09-03 12:42:47 (432 KB/s) - ‘JWST_ERS_1st_LOOK_PAPER_DATA’ saved [375091/375091]\n",
      "\n"
     ]
    }
   ],
   "source": [
    "import os\n",
    "import zipfile\n",
    "# where you will download the data\n",
    "picaso_tutorial_dir = 'exoplanet_modeling_tutorial'\n",
    "import os\n",
    "if not os.path.exists(picaso_tutorial_dir):\n",
    "    os.makedirs(picaso_tutorial_dir)\n",
    "\n",
    "# Download Eureka data file from ZENODO into the picaso_tutorial_dir you have defined above\n",
    "!wget -O JWST_ERS_1st_LOOK_PAPER_DATA \"https://zenodo.org/record/6959427/files/JWST_ERS_1st_LOOK_PAPER_DATA.zip?download=1\"\n",
    "with zipfile.ZipFile('JWST_ERS_1st_LOOK_PAPER_DATA', 'r') as zip_ref:\n",
    "    zip_ref.extractall('exoplanet_modeling_tutorial')\n",
    "os.remove(\"JWST_ERS_1st_LOOK_PAPER_DATA\")"
   ]
  },
  {
   "cell_type": "markdown",
   "id": "f0a555f1-741d-4a3f-a8b9-febdd29e21bb",
   "metadata": {},
   "source": [
    "## Downloading Opacity\n",
    "Now, we have to download the opacities file in order for PICASO to run. This is explained in much deeper depth in the notebook [AnalyzeExoplanet_2_picaso.ipynb](www.google.com). But for now, download opacities **R20000**. Then, move these to your `picaso/reference/opacities/` directory."
   ]
  },
  {
   "cell_type": "code",
   "execution_count": 1,
   "id": "80fa3e21-9a36-4fed-b5d6-4f2b6c20240b",
   "metadata": {},
   "outputs": [],
   "source": [
    "!wget -O opacities \"https://zenodo.org/records/6928501/files/all_opacities_4.8_15_R20000.db.tar.gz?download=1\" #this is 7gb\n",
    "with zipfile.ZipFile('opacities', 'r') as zip_ref:\n",
    "    zip_ref.extractall()\n",
    "os.remove(\"opacities\")"
   ]
  },
  {
   "cell_type": "markdown",
   "id": "f74f6e0d-b944-4bd4-aff4-37118618d108",
   "metadata": {},
   "source": [
    "## Downloading Correlated K Tables\n",
    "Now, we have to download the Correlated K Tables in order for PICASO to run a climate analysis. This is, again, explained in much deeper depth in the notebook [AnalyzeExoplanet_2_picaso.ipynb](www.google.com). But for now, download **sonora_2020_feh+100_co_100.data.196** from [here](https://zenodo.org/records/7542068). Then, extract the files and create and move them to your `exoplanet_modeling_tutorial/correlated_k_tables/` directory.\n",
    "\n",
    "Or, run the cell below to be completed for you."
   ]
  },
  {
   "cell_type": "code",
   "execution_count": null,
   "id": "ab88f502-9749-44c4-b2cc-48a9a9970fc1",
   "metadata": {},
   "outputs": [],
   "source": [
    "!wget -O sonora_2020_feh+100_co_100_noTiOVO.data.196 \"https://zenodo.org/records/7542068/files/sonora_2020_feh+100_co_100_noTiOVO.data.196.tar.gz?download=1\"\n",
    "\n",
    "if not os.path.exists(os.path.join(picaso_tutorial_dir, 'correlated_k_tables')):\n",
    "    os.makedirs(os.path.join(picaso_tutorial_dir, 'correlated_k_tables'))\n",
    "with zipfile.ZipFile('sonora_2020_feh+100_co_100_noTiOVO.data.196', 'r') as zip_ref:\n",
    "    zip_ref.extractall('exoplanet_modeling_tutorial/correlated_k_tables/)\n",
    "os.remove(\"sonora_2020_feh+100_co_100_noTiOVO.data.196.tar.gz\")"
   ]
  }
 ],
 "metadata": {
  "colab": {
   "provenance": [
    {
     "file_id": "1iiuBZ-9eSg-ZGlT7WLODxID7alvtayrD",
     "timestamp": 1686694242813
    }
   ],
   "toc_visible": true
  },
  "kernelspec": {
   "display_name": "Python 3 (ipykernel)",
   "language": "python",
   "name": "python3"
  },
  "language_info": {
   "codemirror_mode": {
    "name": "ipython",
    "version": 3
   },
   "file_extension": ".py",
   "mimetype": "text/x-python",
   "name": "python",
   "nbconvert_exporter": "python",
   "pygments_lexer": "ipython3",
   "version": "3.11.5"
  },
  "toc": {
   "base_numbering": 1,
   "nav_menu": {},
   "number_sections": true,
   "sideBar": true,
   "skip_h1_title": false,
   "title_cell": "Table of Contents",
   "title_sidebar": "Contents",
   "toc_cell": true,
   "toc_position": {},
   "toc_section_display": true,
   "toc_window_display": false
  }
 },
 "nbformat": 4,
 "nbformat_minor": 5
}
